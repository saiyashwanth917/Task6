{
 "cells": [
  {
   "cell_type": "code",
   "execution_count": null,
   "id": "127d9d3f-3068-4fe2-84cb-e8c51bfcbaf0",
   "metadata": {},
   "outputs": [],
   "source": []
  }
 ],
 "metadata": {
  "kernelspec": {
   "display_name": "",
   "name": ""
  },
  "language_info": {
   "name": ""
  }
 },
 "nbformat": 4,
 "nbformat_minor": 5
}
